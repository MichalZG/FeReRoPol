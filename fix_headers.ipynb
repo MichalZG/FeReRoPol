{
 "cells": [
  {
   "cell_type": "code",
   "execution_count": 47,
   "metadata": {},
   "outputs": [],
   "source": [
    "import glob \n",
    "import astropy.io.fits as fits\n",
    "import os"
   ]
  },
  {
   "cell_type": "code",
   "execution_count": 58,
   "metadata": {},
   "outputs": [],
   "source": [
    "data_dir = '/home/pi/DATA/astro/rozhen/20180517/fit/gd319/'\n",
    "ext = '*.fit'"
   ]
  },
  {
   "cell_type": "code",
   "execution_count": 59,
   "metadata": {},
   "outputs": [
    {
     "name": "stdout",
     "output_type": "stream",
     "text": [
      "test image name: gd319_hwp_wp_r_000_1.fit\n"
     ]
    }
   ],
   "source": [
    "images = sorted(glob.glob(os.path.join(data_dir, ext)))\n",
    "print('test image name:', os.path.basename(images[0]))"
   ]
  },
  {
   "cell_type": "code",
   "execution_count": 60,
   "metadata": {},
   "outputs": [],
   "source": [
    "split_by = '_'\n",
    "# counts from zero!\n",
    "color_name_pos = 3\n",
    "angle_name_pos = 4"
   ]
  },
  {
   "cell_type": "markdown",
   "metadata": {},
   "source": [
    "# TEST"
   ]
  },
  {
   "cell_type": "code",
   "execution_count": 61,
   "metadata": {},
   "outputs": [
    {
     "name": "stdout",
     "output_type": "stream",
     "text": [
      "gd319_hwp_wp_r_000_1.fit\n",
      "color name: r\n",
      "angle name: 000\n"
     ]
    }
   ],
   "source": [
    "test_name = os.path.basename(images[0])\n",
    "color = test_name.split(split_by)[color_name_pos]\n",
    "angle = test_name.split(split_by)[angle_name_pos]\n",
    "print(test_name)\n",
    "print('color name:', color)\n",
    "print('angle name:', angle)"
   ]
  },
  {
   "cell_type": "code",
   "execution_count": 62,
   "metadata": {},
   "outputs": [],
   "source": [
    "name_to_angle = {'000': 0.0,\n",
    "                 '022': 22.5,\n",
    "                 '045': 45.0,\n",
    "                 '067': 67.5}"
   ]
  },
  {
   "cell_type": "code",
   "execution_count": 64,
   "metadata": {
    "scrolled": true
   },
   "outputs": [
    {
     "name": "stdout",
     "output_type": "stream",
     "text": [
      "gd319_hwp_wp_r_000_1.fit\n",
      "r 000 0.0\n",
      "gd319_hwp_wp_r_000_2.fit\n",
      "r 000 0.0\n",
      "gd319_hwp_wp_r_000_3.fit\n",
      "r 000 0.0\n",
      "gd319_hwp_wp_r_000_4.fit\n",
      "r 000 0.0\n",
      "gd319_hwp_wp_r_000_5.fit\n",
      "r 000 0.0\n",
      "gd319_hwp_wp_r_022_1.fit\n",
      "r 022 22.5\n",
      "gd319_hwp_wp_r_022_2.fit\n",
      "r 022 22.5\n",
      "gd319_hwp_wp_r_022_3.fit\n",
      "r 022 22.5\n",
      "gd319_hwp_wp_r_022_4.fit\n",
      "r 022 22.5\n",
      "gd319_hwp_wp_r_022_5.fit\n",
      "r 022 22.5\n",
      "gd319_hwp_wp_r_045_1.fit\n",
      "r 045 45.0\n",
      "gd319_hwp_wp_r_045_2.fit\n",
      "r 045 45.0\n",
      "gd319_hwp_wp_r_045_3.fit\n",
      "r 045 45.0\n",
      "gd319_hwp_wp_r_045_4.fit\n",
      "r 045 45.0\n",
      "gd319_hwp_wp_r_045_5.fit\n",
      "r 045 45.0\n",
      "gd319_hwp_wp_r_067_1.fit\n",
      "r 067 67.5\n",
      "gd319_hwp_wp_r_067_2.fit\n",
      "r 067 67.5\n",
      "gd319_hwp_wp_r_067_3.fit\n",
      "r 067 67.5\n",
      "gd319_hwp_wp_r_067_4.fit\n",
      "r 067 67.5\n",
      "gd319_hwp_wp_r_067_5.fit\n",
      "r 067 67.5\n"
     ]
    }
   ],
   "source": [
    "for im in images:\n",
    "    \n",
    "    print(os.path.basename(im))\n",
    "    color = os.path.basename(im.split(split_by)[color_name_pos])\n",
    "    angle = os.path.basename(im.split(split_by)[angle_name_pos])\n",
    "    print(color, angle, name_to_angle[angle])\n",
    "    \n",
    "    hdu = fits.open(im, mode='update')\n",
    "    hdr = hdu[0].header\n",
    "    hdr['FILTER'] = str(name_to_angle[angle]) + '-' + color.upper()\n",
    "    hdu[0].header = hdr\n",
    "    hdu.flush()\n",
    "    "
   ]
  },
  {
   "cell_type": "code",
   "execution_count": null,
   "metadata": {},
   "outputs": [],
   "source": []
  },
  {
   "cell_type": "code",
   "execution_count": null,
   "metadata": {},
   "outputs": [],
   "source": []
  }
 ],
 "metadata": {
  "kernelspec": {
   "display_name": "Python 3",
   "language": "python",
   "name": "python3"
  },
  "language_info": {
   "codemirror_mode": {
    "name": "ipython",
    "version": 3
   },
   "file_extension": ".py",
   "mimetype": "text/x-python",
   "name": "python",
   "nbconvert_exporter": "python",
   "pygments_lexer": "ipython3",
   "version": "3.6.4"
  }
 },
 "nbformat": 4,
 "nbformat_minor": 2
}
