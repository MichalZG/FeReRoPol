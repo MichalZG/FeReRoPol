{
 "cells": [
  {
   "cell_type": "code",
   "execution_count": 66,
   "metadata": {},
   "outputs": [],
   "source": [
    "import glob \n",
    "import astropy.io.fits as fits\n",
    "import os\n",
    "import numpy as np"
   ]
  },
  {
   "cell_type": "code",
   "execution_count": 67,
   "metadata": {},
   "outputs": [],
   "source": [
    "data_dir = '/home/pi/DATA/astro/rozhen/20180517/fit/gd319/'\n",
    "ext = '*.fit'"
   ]
  },
  {
   "cell_type": "code",
   "execution_count": 68,
   "metadata": {},
   "outputs": [
    {
     "name": "stdout",
     "output_type": "stream",
     "text": [
      "test image name: gd319_hwp_wp_r_000_1.fit\n"
     ]
    }
   ],
   "source": [
    "images = sorted(glob.glob(os.path.join(data_dir, ext)))\n",
    "print('test image name:', os.path.basename(images[0]))"
   ]
  },
  {
   "cell_type": "code",
   "execution_count": 69,
   "metadata": {},
   "outputs": [],
   "source": [
    "split_by = '_'\n",
    "# counts from zero!\n",
    "color_name_pos = 3\n",
    "angle_name_pos = 4"
   ]
  },
  {
   "cell_type": "markdown",
   "metadata": {},
   "source": [
    "# TEST"
   ]
  },
  {
   "cell_type": "code",
   "execution_count": 70,
   "metadata": {},
   "outputs": [
    {
     "name": "stdout",
     "output_type": "stream",
     "text": [
      "gd319_hwp_wp_r_000_1.fit\n",
      "color name: r\n",
      "angle name: 000\n"
     ]
    }
   ],
   "source": [
    "test_name = os.path.basename(images[0])\n",
    "color = test_name.split(split_by)[color_name_pos]\n",
    "angle = test_name.split(split_by)[angle_name_pos]\n",
    "print(test_name)\n",
    "print('color name:', color)\n",
    "print('angle name:', angle)"
   ]
  },
  {
   "cell_type": "code",
   "execution_count": 71,
   "metadata": {},
   "outputs": [],
   "source": [
    "name_to_angle = {'000': 0.0,\n",
    "                 '022': 22.5,\n",
    "                 '045': 45.0,\n",
    "                 '067': 67.5}"
   ]
  },
  {
   "cell_type": "code",
   "execution_count": 72,
   "metadata": {
    "scrolled": true
   },
   "outputs": [
    {
     "name": "stdout",
     "output_type": "stream",
     "text": [
      "gd319_hwp_wp_r_000_1.fit\n",
      "r 000 0.0\n",
      "[[94 94 97 ... 94 99 97]\n",
      " [90 99 95 ... 98 97 96]\n",
      " [93 97 96 ... 94 96 93]\n",
      " ...\n",
      " [89 94 92 ... 91 95 96]\n",
      " [87 94 97 ... 93 96 98]\n",
      " [92 94 92 ... 96 95 93]]\n",
      "gd319_hwp_wp_r_000_2.fit\n",
      "r 000 0.0\n",
      "[[ 90  92  96 ...  94  99  94]\n",
      " [ 91  96  97 ...  95  93  93]\n",
      " [ 91  96  94 ...  95  96  96]\n",
      " ...\n",
      " [ 92  95  90 ...  95  92 100]\n",
      " [ 91  94  93 ...  93  95  93]\n",
      " [ 88  97  94 ...  96  95  96]]\n",
      "gd319_hwp_wp_r_000_3.fit\n",
      "r 000 0.0\n",
      "[[95 93 96 ... 98 96 94]\n",
      " [90 99 97 ... 97 97 98]\n",
      " [90 95 97 ... 97 96 98]\n",
      " ...\n",
      " [88 95 95 ... 96 98 96]\n",
      " [91 93 93 ... 98 94 96]\n",
      " [90 93 93 ... 93 94 98]]\n",
      "gd319_hwp_wp_r_000_4.fit\n",
      "r 000 0.0\n",
      "[[90 95 93 ... 99 97 94]\n",
      " [93 92 97 ... 97 94 97]\n",
      " [89 97 95 ... 97 93 94]\n",
      " ...\n",
      " [87 94 94 ... 96 96 94]\n",
      " [91 93 94 ... 96 95 98]\n",
      " [91 91 93 ... 96 99 95]]\n",
      "gd319_hwp_wp_r_000_5.fit\n",
      "r 000 0.0\n",
      "[[ 93  95  93 ...  96  95  94]\n",
      " [ 88  98  98 ...  93  94  94]\n",
      " [ 91  95  97 ...  95  98  96]\n",
      " ...\n",
      " [ 89  91  96 ...  95  99  96]\n",
      " [ 88  94  94 ... 100  93  93]\n",
      " [ 89  93  94 ...  97  96  97]]\n",
      "gd319_hwp_wp_r_022_1.fit\n",
      "r 022 22.5\n",
      "[[92 93 96 ... 99 92 94]\n",
      " [88 93 94 ... 97 93 95]\n",
      " [88 95 93 ... 96 99 98]\n",
      " ...\n",
      " [87 90 94 ... 91 98 94]\n",
      " [92 91 90 ... 96 95 95]\n",
      " [91 90 92 ... 97 98 94]]\n",
      "gd319_hwp_wp_r_022_2.fit\n",
      "r 022 22.5\n",
      "[[91 94 92 ... 93 95 93]\n",
      " [92 95 93 ... 97 98 95]\n",
      " [91 94 96 ... 95 94 94]\n",
      " ...\n",
      " [88 93 96 ... 92 97 93]\n",
      " [90 94 92 ... 94 95 95]\n",
      " [89 91 94 ... 96 93 97]]\n",
      "gd319_hwp_wp_r_022_3.fit\n",
      "r 022 22.5\n",
      "[[91 93 92 ... 95 96 97]\n",
      " [93 93 93 ... 99 96 95]\n",
      " [89 94 94 ... 98 94 94]\n",
      " ...\n",
      " [88 91 94 ... 93 96 96]\n",
      " [93 93 94 ... 93 93 96]\n",
      " [91 94 92 ... 96 94 94]]\n",
      "gd319_hwp_wp_r_022_4.fit\n",
      "r 022 22.5\n",
      "[[ 89  95  93 ...  94  95  94]\n",
      " [ 95  91  92 ...  98  96  98]\n",
      " [ 89  94 100 ...  95  95  98]\n",
      " ...\n",
      " [ 89  94  94 ...  95  93  96]\n",
      " [ 87  94  94 ...  97  97  95]\n",
      " [ 90  92  93 ...  95  93  94]]\n",
      "gd319_hwp_wp_r_022_5.fit\n",
      "r 022 22.5\n",
      "[[ 90  93  92 ...  95  95 100]\n",
      " [ 94  93  92 ...  99  94  95]\n",
      " [ 93  98  94 ...  93  97  95]\n",
      " ...\n",
      " [ 90  93  93 ...  97  93  96]\n",
      " [ 87  92  92 ...  94  92  96]\n",
      " [ 88  92  91 ...  94  96  96]]\n",
      "gd319_hwp_wp_r_045_1.fit\n",
      "r 045 45.0\n",
      "[[90 92 92 ... 97 97 95]\n",
      " [93 89 95 ... 96 95 97]\n",
      " [91 97 94 ... 94 93 99]\n",
      " ...\n",
      " [91 92 95 ... 93 94 94]\n",
      " [89 93 93 ... 98 93 95]\n",
      " [89 92 90 ... 94 94 98]]\n",
      "gd319_hwp_wp_r_045_2.fit\n",
      "r 045 45.0\n",
      "[[91 93 93 ... 97 96 94]\n",
      " [92 93 93 ... 96 96 94]\n",
      " [92 94 90 ... 95 96 94]\n",
      " ...\n",
      " [90 92 93 ... 94 98 95]\n",
      " [90 90 93 ... 97 94 94]\n",
      " [92 94 91 ... 94 93 95]]\n",
      "gd319_hwp_wp_r_045_3.fit\n",
      "r 045 45.0\n",
      "[[93 92 95 ... 96 94 98]\n",
      " [92 94 91 ... 93 96 95]\n",
      " [90 92 96 ... 94 95 93]\n",
      " ...\n",
      " [89 94 90 ... 93 95 95]\n",
      " [88 90 95 ... 94 94 97]\n",
      " [90 92 90 ... 97 97 92]]\n",
      "gd319_hwp_wp_r_045_4.fit\n",
      "r 045 45.0\n",
      "[[92 93 95 ... 96 96 98]\n",
      " [89 93 96 ... 95 93 95]\n",
      " [89 94 92 ... 95 98 95]\n",
      " ...\n",
      " [91 94 92 ... 96 95 96]\n",
      " [91 93 92 ... 95 93 97]\n",
      " [91 89 94 ... 97 96 98]]\n",
      "gd319_hwp_wp_r_045_5.fit\n",
      "r 045 45.0\n",
      "[[91 92 90 ... 95 95 95]\n",
      " [90 93 94 ... 97 95 96]\n",
      " [91 94 95 ... 93 96 95]\n",
      " ...\n",
      " [90 90 94 ... 96 98 97]\n",
      " [92 93 93 ... 93 95 96]\n",
      " [90 92 94 ... 97 97 95]]\n",
      "gd319_hwp_wp_r_067_1.fit\n",
      "r 067 67.5\n",
      "[[88 91 91 ... 93 95 95]\n",
      " [93 95 94 ... 94 94 99]\n",
      " [90 96 92 ... 98 92 97]\n",
      " ...\n",
      " [89 91 93 ... 96 96 97]\n",
      " [91 90 94 ... 94 95 92]\n",
      " [89 92 92 ... 97 94 94]]\n",
      "gd319_hwp_wp_r_067_2.fit\n",
      "r 067 67.5\n",
      "[[92 93 96 ... 96 95 96]\n",
      " [90 97 96 ... 94 94 97]\n",
      " [93 94 93 ... 97 95 98]\n",
      " ...\n",
      " [89 96 93 ... 94 96 95]\n",
      " [90 93 93 ... 95 97 92]\n",
      " [89 93 95 ... 94 94 94]]\n",
      "gd319_hwp_wp_r_067_3.fit\n",
      "r 067 67.5\n",
      "[[91 90 94 ... 95 95 94]\n",
      " [91 90 95 ... 98 97 93]\n",
      " [90 94 95 ... 94 92 94]\n",
      " ...\n",
      " [87 91 93 ... 97 96 95]\n",
      " [87 94 91 ... 96 95 91]\n",
      " [90 91 95 ... 96 94 92]]\n",
      "gd319_hwp_wp_r_067_4.fit\n",
      "r 067 67.5\n",
      "[[91 93 94 ... 93 93 96]\n",
      " [88 92 94 ... 96 95 97]\n",
      " [90 92 97 ... 96 97 94]\n",
      " ...\n",
      " [88 94 92 ... 95 95 94]\n",
      " [89 91 93 ... 95 96 92]\n",
      " [86 92 93 ... 97 94 96]]\n",
      "gd319_hwp_wp_r_067_5.fit\n",
      "r 067 67.5\n",
      "[[91 92 96 ... 96 92 94]\n",
      " [90 92 92 ... 94 92 94]\n",
      " [93 95 92 ... 94 95 95]\n",
      " ...\n",
      " [90 92 95 ... 92 97 93]\n",
      " [88 95 94 ... 97 95 95]\n",
      " [89 91 95 ... 96 92 94]]\n"
     ]
    }
   ],
   "source": [
    "for im in images:\n",
    "    \n",
    "    print(os.path.basename(im))\n",
    "    color = os.path.basename(im.split(split_by)[color_name_pos])\n",
    "    angle = os.path.basename(im.split(split_by)[angle_name_pos])\n",
    "    print(color, angle, name_to_angle[angle])\n",
    "    \n",
    "    hdu = fits.open(im, mode='update')\n",
    "    data = hdu[0].data\n",
    "    hdr = hdu[0].header\n",
    "    hdr['FILTER'] = str(name_to_angle[angle]) + '-' + color.upper()\n",
    "    hdu[0].header = hdr\n",
    "    \n",
    "    data = np.where(data < 0, -1*data+32768, data)\n",
    "    print(data)\n",
    "    hdu.flush()\n",
    "    "
   ]
  },
  {
   "cell_type": "code",
   "execution_count": null,
   "metadata": {},
   "outputs": [],
   "source": []
  },
  {
   "cell_type": "code",
   "execution_count": null,
   "metadata": {},
   "outputs": [],
   "source": []
  }
 ],
 "metadata": {
  "kernelspec": {
   "display_name": "Python 3",
   "language": "python",
   "name": "python3"
  },
  "language_info": {
   "codemirror_mode": {
    "name": "ipython",
    "version": 3
   },
   "file_extension": ".py",
   "mimetype": "text/x-python",
   "name": "python",
   "nbconvert_exporter": "python",
   "pygments_lexer": "ipython3",
   "version": "3.6.4"
  }
 },
 "nbformat": 4,
 "nbformat_minor": 2
}
